{
 "cells": [
  {
   "cell_type": "markdown",
   "metadata": {},
   "source": [
    "Mark Goncharov B01-908"
   ]
  },
  {
   "cell_type": "markdown",
   "metadata": {},
   "source": [
    "# Theory\n",
    "\n",
    "The EPR method investigates the resonant absorption of an alternating electromagnetic field in a sample depending on the external conditions controlled by the experimenter: a constant magnetic field, the frequency of oscillations of the alternating field and temperature.\n",
    "\n",
    "\n",
    "The simplest model for considering EPR is a system of non-interacting particles with spin $S = 1/2$ placed in an external magnetic field. In the absence of a magnetic field, the energies of the states with the spin projection $S_Z = \\pm 1/2$ coincide. Due to the Zeeman effect, the energies of states with different spin projections begin to differ. If we direct a radiation stream with an energy equal to the difference in the energies of these states to our system\n",
    "\n",
    "\\begin{equation}\\label{2}\n",
    "h \\nu = g\\mu_B B,\n",
    "\\end{equation}\n",
    "\n",
    "\n",
    "then induced transitions between states will become possible. These transitions occur with the absorption or emission of a photon, depending on which of the states the system was in before interacting with radiation. In contrast to optical transitions between electronic energy levels in an atom, the typical frequency of the alternating field in the EPR experiment is about 10 GHz, which corresponds to a photon energy of less than 1K. Therefore, with the exception of very low temperatures, the population of both spin sublevels with $S_Z = \\ pm 1/2$ is close. In the state of thermal equilibrium, the lower energy level is more populated, therefore, the absorption of electromagnetic radiation is observed.\n",
    "\n",
    "\n",
    "The\" classical \" approach considers the precession of the magnetic moment in an external field when the magnetic moment deviates from equilibrium. The classical magnetic dipole tends to align along the magnetic field lines, when it deviates from equilibrium, a returning mechanical moment $\\mathbf{T} = \\mathbf{M}\\times \\mathbf{B}$occurs. Since the magnetic and mechanical moment of an ion are related to each other by the gyromagnetic ratio $\\gamma$ as $\\mathbf{M}=\\gamma \\mathbf{J}$, where $\\mathbf{J}$ is the total angular momentum, then taking into account the dynamics equation\n",
    "$\\frac{d}{dt}\\mathbf{J} = \\mathbf{T}$, we get the equation of the precession of the magnetic moment\n",
    "\n",
    "$\\dfrac{d}{dt}\\mathbf{M} = \\gamma \\mathbf{M} \\times \\mathbf{B}.$\n",
    "\n",
    "Similarly, with the well-known gyroscope precession problem, it can be noted that when the magnetic moment deviates from the direction of the magnetic field, an undamped precession occurs around the direction of the field with an angular velocity $\\boldsymbol{\\Omega} = - \\gamma \\mathbf{B}$, the frequency of this precession $\\Omega_L = \\gamma B$ is called Larmor. If the frequency of the alternating field perpendicular to the main field coincides with the Larmor frequency, resonant absorption may occur.\n",
    "\n",
    "\n",
    "\n",
    "In the quantum mechanical method of description, the structure of the terms of atoms (ions or molecules) split in a magnetic field and the transitions between the split sublevels are considered. To avoid confusion, we note that the EPR differs from the optical Zeeman effect, which is discussed in sufficient detail in the course of general physics. In the case of the optical Zeeman effect, a splitting of the spectral line associated with transitions between different atomic terms is observed in the magnetic field. The frequency of this spectral line usually lies in the optical range. Frequency of the alternating electromagnetic field\n",
    "in EPR experiments, the optical frequencies are much lower, so the quantum energy\n",
    "of the electromagnetic field can only be sufficient for transitions between\n",
    "sublevels of one term split by the value of the total moment projection (in the simplest case, shown on the\n",
    "spin projection).\n",
    "The splitting of the term of a free ion (or molecule) is determined by the Lande spectroscopic\n",
    "factor (Lande g-factor):\n",
    "\n",
    "$E(m_J)=g\\mu{}_BBm_J.$\n",
    "\n",
    "In a crystal, ions or molecules\n",
    "are not free, they are affected by the electric field of their neighbors (called the crystal field\n",
    "field), under the influence of which the spatial location of the electron\n",
    "clouds of the outer shells is fixed (first of all, under the influence of the interaction of the quadrupole\n",
    "electric moments of the shells with the gradients of the electric field strength).\n",
    "Therefore, the Lande formula for an ion in a crystal is not applicable and the problem of splitting a term in\n",
    "a magnetic field is generally more complex.\n",
    "In such cases, the splitting\n",
    "of the ion level is described by an effective g-factor\n",
    "\n",
    "$E(m_J)=g_{eff}\\mu{}_BBm_J,$\n",
    "\n",
    "in real\n",
    "crystals, the effective g-factor can be anisotropic (depending on the direction in which\n",
    "where a magnetic field is applied). It turns out to be a simple case when there is no orbital\n",
    "contribution to the magnetic moment of unpaired electrons: this case is typical for ions\n",
    "in the S-state and for some free radical molecules in which the unpaired\n",
    "electron is located on a delocalized molecular orbital and also does not have\n",
    "an orbital moment. In this case, the total moment is associated only with spin and\n",
    "the splitting of the term in the magnetic field occurs according to the spin projection. It is with a compound\n",
    "from the class of free radicals that we are dealing in our work. In the absence of an orbital\n",
    "However, the effective g-factor of such a compound turns out to be very close to the pure\n",
    "spin value of $2.0$.\n",
    "\n",
    "\n",
    "\n",
    "![Installation diagram](1.png)\n",
    "\n",
    "\n",
    "\n",
    "The installation diagram is shown in the figure. The sample (DFPG powder) in a glass ampoule is placed inside the inductor, which is part of the oscillatory circuit. The capacitor included in the circuit consists of two plates separated by an air gap, one of the plates can be moved by turning the rod. The oscillations in the circuit are excited by an antenna connected to a high frequency generator (HF) G4-116. The amplitude of the field oscillations in the inductor\n",
    "it is measured by the EMF induction induced in the coupling loop. High-frequency oscillations of the induction EMF in the receiving circuit are detected by a diode, the low-frequency envelope of this signal measured using an oscilloscope is proportional to the square of the amplitude of the field oscillations in the coil.\n",
    "\n",
    "\n",
    "\n",
    "A constant magnetic field is created by passing a current from a DC source through the main coils. In this case, the voltage drop on the resistor in the circuit of the main coils is measured using a voltmeter. An alternating field of a small amplitude is created by applying voltage to the modulation coils from an adjustable LATR transformer. To measure the amplitude of the oscillations of the alternating field, a test coil of a known geometry is used, connected to a voltmeter. Let the flow through it be $\\Phi_{\\text{sample}}$, then the EMF of induction\n",
    "\n",
    "$\\mathcal{E} = - \\dfrac{d\\Phi_{\\text{sample}}}{dt}.$\n",
    "\n",
    "If $I_{\\text{osn}}$ is the current through the main coil, and $M$ is the mutual inductance of the main and test coils, then\n",
    "\n",
    "$\\Phi_{\\text{prob}} = M I_{\\text{osn}}.$\n",
    "\n",
    "Then the amplitude value of the EMF of induction\n",
    "\n",
    "$\\mathcal{E}_{\\text{amp}} = - \\dfrac{dM I_{\\text{osn}}}{dt} = M \\omega I_{\\text{amp}}.$\n",
    "\n",
    "Considering that $I_{\\text{amp}} = \\sqrt{2} I_{\\text{real}}=\\frac{V_r}{r}$, where $V_R$, $R$ is the voltage on the resistor with a resistance of $R$ in the circuit of the main coils, as well as $\\mathcal{E}_{\\text{amp}} = \\sqrt{2}\\mathcal{E}_{\\text{cp}}$, we get\n",
    "\n",
    "$\\mathcal{E}_{\\text{cp}} = M \\omega \\dfrac{V_R}{R} = k V_R.$\n",
    "\n",
    "Then, knowing that\n",
    "\n",
    "$\\Phi_{\\text{trial}} = B_0 N_{\\text{trial}} \\dfrac{\\pi d_{\\text{trial}}^2}{4} = \\dfrac{MU_R}{R} = \\dfrac{k U}{\\omega},$\n",
    "\n",
    "where $U$ is the voltage at $R$ in the resonance, we get\n",
    "\n",
    "$B_0 = \\dfrac{4k U}{\\pi \\omega d^2_{\\text{trial}} N_{\\text{trial}}}$\n",
    "\n",
    "\n",
    "\n",
    "##### Final formulas used\n",
    "\n",
    "Calculation of the induction of the main magnetic field\n",
    "\n",
    "$$\n",
    "B_{0}=\\frac{4 k U}{\\pi \\omega d_{\\mathrm{trial} 0}^{2} N_{\\mathrm{trial} 6}}.\n",
    "$$\n",
    "\n",
    "g-factor of the electron will be calculated by the formula\n",
    "\n",
    "$$\n",
    "g=\\frac{h f_{0}}{\\mu_{B} B_{0}}.\n",
    "$$\n",
    "\n",
    "-------------------------------------------------------------------"
   ]
  },
  {
   "cell_type": "markdown",
   "metadata": {},
   "source": [
    "# Progress of work"
   ]
  },
  {
   "cell_type": "markdown",
   "metadata": {},
   "source": [
    "Preparing libraries"
   ]
  },
  {
   "cell_type": "code",
   "execution_count": 1,
   "metadata": {},
   "outputs": [],
   "source": [
    "import pandas as pd\n",
    "import numpy as np"
   ]
  },
  {
   "cell_type": "markdown",
   "metadata": {},
   "source": [
    "Getting information about coils"
   ]
  },
  {
   "cell_type": "code",
   "execution_count": 2,
   "metadata": {},
   "outputs": [],
   "source": [
    "N1 = 6700 \n",
    "d1 = 0.25     #m\n",
    "N2 = 5000 \n",
    "d2 = 0.3      #m\n",
    "N_prob = 45\n",
    "d_prob = 15.2 #mm"
   ]
  },
  {
   "cell_type": "markdown",
   "metadata": {},
   "source": [
    "##### Setting up a high-frequency generator"
   ]
  },
  {
   "cell_type": "markdown",
   "metadata": {},
   "source": [
    "Task:\n",
    "\n",
    "Adjust the generator to the resonant frequency of the oscillatory circuit, determine the frequency value, determine the quality factor of the circuit."
   ]
  },
  {
   "cell_type": "markdown",
   "metadata": {},
   "source": [
    "The Q-factor of the oscillatory circuit can be determined by the frequency detuning until\n",
    "the signal reaches half\n",
    "of the maximum value\n",
    "\n",
    "$$\n",
    "Q_0=\\frac{f_0}{f_{+0.5}-f_{-0.5}},\n",
    "$$\n",
    "\n",
    "where $f_ {\\pm {} 0.5}$ are the frequency values when the half signal is reached when the generator is detuned towards\n",
    "large and small frequencies"
   ]
  },
  {
   "cell_type": "code",
   "execution_count": 3,
   "metadata": {},
   "outputs": [
    {
     "name": "stdout",
     "output_type": "stream",
     "text": [
      "\n",
      "Final quality\n",
      "Q = 156.8 +- 0.1\n"
     ]
    }
   ],
   "source": [
    "f0 = 81.52\n",
    "f0_sigma = 0.03 \n",
    "f1 = 81.82\n",
    "f1_sigma = 0.03\n",
    "f2 = 81.3\n",
    "f2_sigma = 0.03\n",
    "\n",
    "Q = f0 / (f1 - f2) #quality\n",
    "Q_sigma = Q * np.sqrt((f0_sigma/f0)**2 + (f1_sigma/f1)**2 + (f2_sigma/f2)**2)\n",
    "print(\"\\nFinal quality\")\n",
    "print(\"Q =\", round(Q, 1), \"+-\", round(Q_sigma, 1))"
   ]
  },
  {
   "cell_type": "markdown",
   "metadata": {},
   "source": [
    "##### Observation of the resonant absorption signal"
   ]
  },
  {
   "cell_type": "markdown",
   "metadata": {},
   "source": [
    "Task:\n",
    "\n",
    "Observation of the resonant absorption signal on the oscilloscope screen, fixation of the observed pattern"
   ]
  },
  {
   "cell_type": "markdown",
   "metadata": {},
   "source": [
    "The field on the sample is the sum of the constant field from the main coils and the variable\n",
    "field from the modulation coils\n",
    "\n",
    "$$\n",
    "B(t)=B_{post}+B_{mod}\\sin {(ω_{mod}t)}.\n",
    "$$\n",
    "\n",
    "Resonant absorption\n",
    "occurs when the field B(t) coincides at some points in time with the field of resonant\n",
    "absorption at the frequency of the oscillatory circuit\n",
    "\n",
    "$$\n",
    "B_0=hf_0I(g\\mu{}_B)\n",
    "$$"
   ]
  },
  {
   "cell_type": "markdown",
   "metadata": {},
   "source": [
    "We supply $0.5 V$ to the modulation coils (transformer). Gradually increasing the constant voltage applied to the main coils. We have $U \\approx{} 78mB$"
   ]
  },
  {
   "cell_type": "markdown",
   "metadata": {},
   "source": [
    "##### Fine-tuning the resonant field and determining the line width"
   ]
  },
  {
   "cell_type": "markdown",
   "metadata": {},
   "source": [
    "Task:\n",
    "\n",
    "To achieve precise field tuning for observing the EPR signal, to fix\n",
    "the value of the DC current through the main coils under conditions of resonant absorption,\n",
    "to determine the width of the EPR line."
   ]
  },
  {
   "cell_type": "markdown",
   "metadata": {},
   "source": [
    "Using the measured EMF induction $e_i$ and the coil parameters (the number of turns $N_{samples}$ and the winding diameter $d$), determine the amplitude of the modulating field\n",
    "\n",
    "$$\n",
    "B_{mod}=\\sqrt{2}\\frac{2\\epsilon{}_i}{\\pi^2d^2N_{prob}\\nu{}}.\n",
    "$$\n",
    "\n",
    "The half-width at the half-height of the resonant absorption line (in field units) can then be obtained as\n",
    "\n",
    "$$\n",
    "\\Delta{}B=B_{mod}\\frac{A_{0.5}}{A_{full}}\n",
    "$$"
   ]
  },
  {
   "cell_type": "code",
   "execution_count": 4,
   "metadata": {},
   "outputs": [
    {
     "name": "stdout",
     "output_type": "stream",
     "text": [
      "\n",
      "Modulating magnetic induction\n",
      "\n",
      "B = 46.0 +- 1.0 mkTl\n"
     ]
    }
   ],
   "source": [
    "E = 137\n",
    "E_sigma = 3\n",
    "\n",
    "B = 2 * np.sqrt(2) * E / (np.pi**2 * d_prob**2 * N_prob * f0) * 10**6\n",
    "B_sigma = B * (E_sigma / E + f0_sigma / f0)\n",
    "print(\"\\nModulating magnetic induction\\n\\nB =\", round(B, 0), \"+-\", round(B_sigma, 0), \"mkTl\")"
   ]
  },
  {
   "cell_type": "markdown",
   "metadata": {},
   "source": [
    "We are looking for the half-width and the scope of the modeling field on the oscilloscope\n",
    "\n",
    "Then we calculate the half-width at the half-height of the resonant absorption line."
   ]
  },
  {
   "cell_type": "code",
   "execution_count": 5,
   "metadata": {},
   "outputs": [
    {
     "name": "stdout",
     "output_type": "stream",
     "text": [
      "\n",
      "Half-width at half-height\n",
      "\n",
      "delta_B = 13.0 +- 1.0 mkTl\n"
     ]
    }
   ],
   "source": [
    "A1 = 7.3 # the span of the resonant absorption curve\n",
    "A1_sigma = 0.1\n",
    "A2 = 2.1 # width of the resonance absorption curve\n",
    "A2_sigma = 0.1\n",
    "\n",
    "delta_B = A2 / A1 * B\n",
    "delta_B_sigma = delta_B * (A1_sigma / A1 + A2_sigma / A2 + B_sigma / B)\n",
    "print(\"\\nHalf-width at half-height\\n\\ndelta_B =\", round(delta_B, 0), \"+-\", round(delta_B_sigma, 0), \"mkTl\")"
   ]
  },
  {
   "cell_type": "markdown",
   "metadata": {},
   "source": [
    "##### Calibration of the electromagnet field and determination of the g-factor"
   ]
  },
  {
   "cell_type": "markdown",
   "metadata": {},
   "source": [
    "Task:\n",
    "\n",
    "Determine the relationship between the voltage drop on the resistor in the circuit of the main\n",
    "coils and the magnetic field in the center of the magnet."
   ]
  },
  {
   "cell_type": "markdown",
   "metadata": {},
   "source": [
    "We switch the key to mode 2: the main coils are connected to the LATR"
   ]
  },
  {
   "cell_type": "code",
   "execution_count": 6,
   "metadata": {},
   "outputs": [
    {
     "data": {
      "image/png": "[encoded data removed]",
      "text/plain": [
       "<Figure size 1440x1080 with 1 Axes>"
      ]
     },
     "metadata": {
      "needs_background": "light"
     },
     "output_type": "display_data"
    },
    {
     "name": "stdout",
     "output_type": "stream",
     "text": [
      "Equation of the line : y = ( 0.111 +- 0.001 )x + ( 0.14 +- 0.24 )\n"
     ]
    }
   ],
   "source": [
    "import MNK as mark\n",
    "I = 180             #mA\n",
    "I_sigma = 1         #A\n",
    "R = 0.75            #Om\n",
    "U = I * R           #mB\n",
    "U_sigma = U * (I_sigma / I)\n",
    "\n",
    "I_mas = np.array([134.8, 149.3, 166.4, 170, 176.7, 189.6]) \n",
    "I_mas_err = np.linspace(0.1, 0.1, num = I_mas.size)\n",
    "U_mas = np.array([15.2, 16.7, 18.6, 18.95, 19.8, 21.3])\n",
    "U_mas_err = np.linspace(0.1, 0.1, num = U_mas.size)\n",
    "line1 = mark.line(I_mas, U_mas)\n",
    "line1.error(I_mas_err, U_mas_err)\n",
    "mark.DRAW(\"U(I)\", \"U1, mV\", \"U2, mV\")\n",
    "line1.dump(\"Equation of the line\", round_k = 3, round_b = 2)"
   ]
  },
  {
   "cell_type": "markdown",
   "metadata": {},
   "source": [
    "Here are the errors obtained only from the construction of the OLS. You can also take into account the error of measuring points. Obviously, we will get\n",
    "\n",
    "$$\n",
    "k = 0.111 \\pm{} 0.002\n",
    "$$\n",
    "\n",
    "Calculation of the induction of the main magnetic field\n",
    "\n",
    "$$\n",
    "B_{0}=\\frac{4 k U}{\\pi \\omega d_{\\mathrm{trial} 0}^{2} N_{\\mathrm{trial} }}.\n",
    "$$\n",
    "\n",
    "the$g $ -factor of the electron will be calculated by the formula\n",
    "\n",
    "$$\n",
    "g=\\frac{h f_{0}}{\\mu_{B} B_{0}}.\n",
    "$$"
   ]
  },
  {
   "cell_type": "code",
   "execution_count": 7,
   "metadata": {},
   "outputs": [
    {
     "name": "stdout",
     "output_type": "stream",
     "text": [
      "\n",
      "Induction of the main magnetic field\n",
      "\n",
      "B = 3.6 +- 0.1 mTl\n",
      "\n",
      "g-factor of the electron\n",
      "\n",
      "g = 1.63 +- 0.06\n"
     ]
    }
   ],
   "source": [
    "k_final = 0.111\n",
    "k_final_sigma = 0.004\n",
    "B0_final = 4 * k_final * U / (2 * np.pi**2 * f0 * d_prob**2 * N_prob) * 10**6\n",
    "B0_final_sigma = B0_final * np.sqrt((k_final_sigma/k_final)**2 + (U_sigma / U)**2 + (f0_sigma / f0)**2)\n",
    "print(\"\\nInduction of the main magnetic field\\n\\nB =\", round(B0_final, 1), \"+-\", round(B0_final_sigma, 1), \"mTl\")\n",
    "\n",
    "h = 6.626\n",
    "muB = 0.9274\n",
    "g = h * f0 / (muB * B0_final) / 100\n",
    "g_sigma = g * np.sqrt((f0_sigma / f0)**2 + (B0_final_sigma / B0_final)**2) \n",
    "print(\"\\ng-factor of the electron\\n\\ng =\", round(g, 2), \"+-\", round(g_sigma, 2))"
   ]
  },
  {
   "cell_type": "markdown",
   "metadata": {},
   "source": [
    "# Conclusion\n",
    "\n",
    "* We got acquainted with the phenomenon of electron paramagnetic resonance in the DFPG molecule\n",
    "* Measured the width of the EPR line\n",
    "* We have learned to determine the g-factor of an electron experimentally"
   ]
  }
 ],
 "metadata": {
  "kernelspec": {
   "display_name": "Python 3",
   "language": "python",
   "name": "python3"
  },
  "language_info": {
   "codemirror_mode": {
    "name": "ipython",
    "version": 3
   },
   "file_extension": ".py",
   "mimetype": "text/x-python",
   "name": "python",
   "nbconvert_exporter": "python",
   "pygments_lexer": "ipython3",
   "version": "3.8.10"
  }
 },
 "nbformat": 4,
 "nbformat_minor": 4
}
