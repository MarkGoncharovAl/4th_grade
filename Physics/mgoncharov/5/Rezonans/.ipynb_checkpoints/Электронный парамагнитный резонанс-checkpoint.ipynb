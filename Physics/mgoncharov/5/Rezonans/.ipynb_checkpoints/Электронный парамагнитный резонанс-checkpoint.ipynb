{
 "cells": [
  {
   "cell_type": "markdown",
   "metadata": {},
   "source": [
    "# Электронный парамагнитный резонанс"
   ]
  },
  {
   "cell_type": "markdown",
   "metadata": {},
   "source": [
    "##### Марк Гончаров Б01-908\n",
    "-------------------------------------------"
   ]
  },
  {
   "cell_type": "markdown",
   "metadata": {},
   "source": [
    "## Теория\n",
    "\n",
    "В методе ЭПР изучается резонансное поглощение переменного электромагнитного поля в образце в зависимости от контролируемых экспериментатором внешних условий: постоянного магнитного поля, частоты колебаний переменного поля, температуры.\n",
    "\n",
    "-----------------------------------------------------------------\n",
    "\n",
    "Простейшей моделью для рассмотрения ЭПР является система из невзаимодействующих частиц со спином $S = 1/2$, помещённая во внешнее магнитное поле. В отсутствие магнитного поля энергии состояний с проекцией спина $S_Z = \\pm 1/2$ совпадают. Из-за эффекта Зеемана энергии состояний с различными проекциями спина начинают различаться. Если направить на нашу систему поток излучения с энергией, равной разнице энергий этих состояний \n",
    "\n",
    "\\begin{equation}\\label{2}\n",
    "h \\nu = g\\mu_B B,\n",
    "\\end{equation} \n",
    "\n",
    "\n",
    "то станут возможны индуцированные переходы между состояниями. Эти переходы происходят с поглощением или испусканием фотона в зависимости от того, в каком из состояний была система до взаимодействия с излучением. В отличие от оптических переходов между электронными уровнями энергии в атоме, типичная частота переменного поля в ЭПР эксперименте составляет порядка 10 ГГц, что соответствует энергии фотона менее 1К. Поэтому, за исключением очень низких температур, заселённость обоих спиновых подуровней с $S_Z = \\pm 1/2$ близка. В состоянии теплового равновесия нижний энергетический уровень более заселён, поэтому наблюдается поглощение электромагнитного излучения.\n",
    "\n",
    "--------------------------------------------------------\n",
    "В «классическом» подходе рассматривается прецессия магнитного момента во внешнем поле при отклонении магнитного момента от равновесия. Классический магнитный диполь стремится выровняться вдоль силовых линий магнитного поля, при отклонении от равновесия возникает возвращающий механический момент $\\mathbf{T} = \\mathbf{M}\\times \\mathbf{B}$. Так как магнитный и механический момент иона связаны друг с другом гиромагнитным отношением $\\gamma$ как $\\mathbf{M}=\\gamma \\mathbf{J}$ , где $\\mathbf{J}$ - это полный момент импульса, то с учётом уравнения динамики\n",
    "$\\frac{d}{dt}\\mathbf{J} = \\mathbf{T}$, получим уравнение прецессии магнитного момента\n",
    "\n",
    "$\\dfrac{d}{dt}\\mathbf{M} = \\gamma \\mathbf{M} \\times \\mathbf{B}.$\n",
    "\n",
    "Аналогично с известной задачей о прецессии гироскопа можно заметить, что при отклонении магнитного момента от направления магнитного поля возникает незатухающая прецессия вокруг направления поля с угловой скоростью $\\boldsymbol{\\Omega} = -\\gamma \\mathbf{B}$, частота этой прецессии $\\Omega_L = \\gamma B$ называется ларморовской. При совпадении частоты переменного поля, перпендикулярного основному, с ларморовской частотой возможно возникновение резонансного поглощения.\n",
    "\n",
    "--------------------------------------------------------------------\n",
    "\n",
    "При квантовомеханическом способе описания рассматривается структура расщеплённых в магнитном поле термов атомов (ионов или молекул) и переходы между расщеплёнными подуровнями. Во избежание путаницы отметим, что ЭПР отличается от оптического эффекта Зеемана, достаточно подробно обсуждаемого в курсе общей физики. При оптическом эффекте Зеемана наблюдается расщепление в магнитном поле спектральной линии, связанной с переходами между разными термами атома. Частота этой спектральной линии лежит обычно в оптическом диапазоне. Частота переменного электромагнитного поля\n",
    "в опытах по ЭПР гораздо ниже оптических частот, поэтому энергии кванта\n",
    "электромагнитного поля может хватить лишь на переходы между расщеплёнными по\n",
    "значению проекции полного момента (в простейшем случае, показанном на — по\n",
    "проекции спина) подуровнями одного терма.\n",
    "Расщепление терма свободного иона (или молекулы) определяется спектроскопическим\n",
    "фактором Ланде (g-фактором Ланде): \n",
    "\n",
    "$E(m_J)=g\\mu{}_BBm_J.$\n",
    "\n",
    "В кристалле ионы или молекулы\n",
    "не свободны, на них действует электрическое поле соседей (называемое кристаллическим\n",
    "полем), под действием которого фиксируется пространственное расположение электронных\n",
    "облаков внешних оболочек (в первую очередь, под действием взаимодействия квадрупольных\n",
    "электрических моментов оболочек с градиентами напряжённости электрического поля).\n",
    "Поэтому формула Ланде для иона в кристалле неприменима и задача о расщеплении терма в\n",
    "магнитном поле оказывается в общем случае более сложной.\n",
    " В таких случаях расщепление\n",
    "уровня иона описывают эффективным g-фактором \n",
    "\n",
    "$E(m_J)=g_{эфф}\\mu{}_BBm_J,$\n",
    "\n",
    "в реальных\n",
    "кристаллах эффективный g-фактор может быть анизотропен (зависеть от направления, в\n",
    "котором приложено магнитное поле). Простым оказывается случай, когда орбитального\n",
    "вклада в магнитный момент неспаренных электронов нет: этот случай характерен для ионов\n",
    "в S-состоянии и для некоторых молекул свободных радикалов, в которых неспаренный\n",
    "электрон находится на делокализованной молекулярной орбитали и также не обладает\n",
    "орбитальным моментом. В этом случае полный момент связан только со спином и\n",
    "расщепление терма в магнитном поле происходит по проекции спина. Именно с соединением\n",
    "из класса свободных радикалов мы имеем дело в нашей работе. В отсутствие орбитального\n",
    "вклада эффективный g-фактор такого соединения оказывается очень близок к чисто\n",
    "спиновому значению $2.0$.\n",
    "\n",
    "--------------------------------------------------------------------\n",
    "\n",
    "![Схема установки](1.png)\n",
    "\n",
    "--------------------------------------------------------------------\n",
    "\n",
    "Схема установки представлена на рисунке. Образец (порошок ДФПГ) в стеклянной ампуле помещается внутрь катушки индуктивности, входящей в состав колебательного контура. Входящий в состав контура конденсатор состоит из двух пластин, разделённых воздушным зазором, одна из пластин может перемещаться поворотом штока. Колебания в контуре возбуждаются антенной, соединённой с генератором высокой частоты (ВЧ) Г4-116. Амплитуда колебаний поля в катушке индуктивности\n",
    "измеряется по наводимой в петле связи ЭДС индукции. Высокочастотные колебания ЭДС индукции в приёмном контуре детектируются диодом, измеряемая при помощи осциллографа низкочастотная огибающая этого сигнала пропорциональна квадрату амплитуды колебаний поля в катушке.\n",
    "\n",
    "--------------------------------------------------------------------\n",
    "\n",
    "Постоянное магнитное поле создаётся пропусканием тока от источника постоянного тока через основные катушки. При этом при помощи вольтметра измеряется падение напряжения на резисторе в цепи основных катушек. Переменное поле небольшой амплитуды создаётся подачей на модуляционные катушки напряжения с регулируемого трансформатора ЛАТР. Для измерения амплитуды колебаний переменного поля используется пробная катушка известной геометрии, подключённая к вольтметру. Пусть поток через неё $\\Phi_{\\text{проб}}$, тогда ЭДС индукции\n",
    "\n",
    "$\\mathcal{E} = - \\dfrac{d\\Phi_{\\text{проб}}}{dt}.$\n",
    "\n",
    "Если $I_{\\text{осн}}$ -- ток через основную катушку, а $M$ -- взаимная индуктивность основной и пробной катушек, то\n",
    "\n",
    "$\\Phi_{\\text{проб}} = M I_{\\text{осн}}.$\n",
    "\n",
    "Тогда амплитудное значение ЭДС индукции\n",
    "\n",
    "$\\mathcal{E}_{\\text{амп}} = - \\dfrac{dM I_{\\text{осн}}}{dt} = M \\omega I_{\\text{амп}}.$\n",
    "\n",
    "Учитывая, что $I_{\\text{амп}} = \\sqrt{2} I_{\\text{действ}}=\\frac{V_r}{r}$, где $V_R$, $R$ -- напряжение на резисторе с сопротивлением $R$ в цепи основных катушек, а также $\\mathcal{E}_{\\text{амп}} = \\sqrt{2}\\mathcal{E}_{\\text{ср}}$, получим\n",
    "\n",
    "$\\mathcal{E}_{\\text{ср}} = M \\omega \\dfrac{V_R}{R} = k V_R.$\n",
    "\n",
    "Тогда, зная, что\n",
    "\n",
    "$\\Phi_{\\text{проб}} = B_0 N_{\\text{проб}} \\dfrac{\\pi d_{\\text{проб}}^2}{4} =  \\dfrac{MU_R}{R} = \\dfrac{k U}{\\omega},$\n",
    "\n",
    "где $U$ -- напряжение на $R$ в резонансе, получим\n",
    "\n",
    "$B_0 = \\dfrac{4k U}{\\pi \\omega d^2_{\\text{проб}} N_{\\text{проб}}}$\n",
    "\n",
    "-------------------------------------------------------------------\n",
    "\n",
    "##### Конечные используемые формулы\n",
    "\n",
    "Расчёт индукции основного магнитного поля\n",
    "\n",
    "$$\n",
    "B_{0}=\\frac{4 k U}{\\pi \\omega d_{\\mathrm{проб} 0}^{2} N_{\\mathrm{проб} 6}}.\n",
    "$$\n",
    "\n",
    "$g$-фактор электрона будем вычислять по формуле\n",
    "\n",
    "$$\n",
    "g=\\frac{h f_{0}}{\\mu_{B} B_{0}}.\n",
    "$$\n",
    "\n",
    "-------------------------------------------------------------------"
   ]
  },
  {
   "cell_type": "markdown",
   "metadata": {},
   "source": [
    "## Ход работы"
   ]
  },
  {
   "cell_type": "markdown",
   "metadata": {},
   "source": [
    "Подготовим библиотеки"
   ]
  },
  {
   "cell_type": "code",
   "execution_count": 3,
   "metadata": {},
   "outputs": [],
   "source": [
    "import pandas as pd\n",
    "import numpy as np"
   ]
  },
  {
   "cell_type": "markdown",
   "metadata": {},
   "source": [
    "Снимем показания катушек"
   ]
  },
  {
   "cell_type": "code",
   "execution_count": 17,
   "metadata": {},
   "outputs": [],
   "source": [
    "N1 = 6700 \n",
    "d1 = 0.25     #м\n",
    "N2 = 5000 \n",
    "d2 = 0.3      #м\n",
    "N_prob = 45\n",
    "d_prob = 15.2 #мм"
   ]
  },
  {
   "cell_type": "markdown",
   "metadata": {},
   "source": [
    "##### Настройка высокочастотного генератора"
   ]
  },
  {
   "cell_type": "markdown",
   "metadata": {},
   "source": [
    "Задача:\n",
    "\n",
    "Настроить генератор на резонансную частоту колебательного контура, определить значение частоты, определить добротность контура."
   ]
  },
  {
   "cell_type": "markdown",
   "metadata": {},
   "source": [
    "Добротность колебательного контура может быть определена по расстройке частоты до\n",
    "достижения сигналом половины\n",
    "от максимального значения \n",
    "\n",
    "$$\n",
    "Q_0=\\frac{f_0}{f_{+0.5}-f_{-0.5}},\n",
    "$$\n",
    "\n",
    "где $f_{\\pm{}0.5}$ - значения частоты при достижении половинного сигнала при расстройке генератора в сторону\n",
    "больших и маленьких частот"
   ]
  },
  {
   "cell_type": "code",
   "execution_count": 22,
   "metadata": {},
   "outputs": [
    {
     "name": "stdout",
     "output_type": "stream",
     "text": [
      "\n",
      "Final quality\n",
      "Q = 156.76923076923197 +- 0.0006372063801245192\n"
     ]
    }
   ],
   "source": [
    "f0 = 81.52\n",
    "f0_sigma = 0.03 \n",
    "f1 = 81.82\n",
    "f1_sigma = 0.03\n",
    "f2 = 81.3\n",
    "f2_sigma = 0.03\n",
    "\n",
    "Q = f0 / (f1 - f2) #quality\n",
    "Q_sigma = np.sqrt((f0_sigma/f0)**2 + (f1_sigma/f1)**2 + (f2_sigma/f2)**2)\n",
    "print(\"\\nFinal quality\")\n",
    "print(\"Q =\", Q, \"+-\", Q_sigma)"
   ]
  },
  {
   "cell_type": "markdown",
   "metadata": {},
   "source": [
    "##### Наблюдение сигнала резонансного поглощения"
   ]
  },
  {
   "cell_type": "markdown",
   "metadata": {},
   "source": [
    "Задача:\n",
    "\n",
    "Наблюдение на экране осциллографа сигнала резонансного поглощения, фиксация наблюдаемой картины"
   ]
  },
  {
   "cell_type": "markdown",
   "metadata": {},
   "source": [
    "Поле на образце является суммой постоянного поля от основных катушек и переменного\n",
    "поля от модуляционных катушек \n",
    "\n",
    "$$\n",
    "B(t)=B_{пост}+B_{мод}\\sin{(ω_{мод}t)}.\n",
    "$$\n",
    "\n",
    "Резонансное поглощение\n",
    "возникает при совпадении в некоторые моменты времени поля B(t) с полем резонансного\n",
    "поглощения на частоте колебательного контура \n",
    "\n",
    "$$\n",
    "B_0=hf_0I(g\\mu{}_B)\n",
    "$$"
   ]
  },
  {
   "cell_type": "markdown",
   "metadata": {},
   "source": [
    "Подаём $0.5В$ на модуляционные катушки (трансформатор). Плавно увеличивая постоянное напряжение, подавамое на основные катушки. Имеем $U \\approx{} 78мВ$"
   ]
  },
  {
   "cell_type": "markdown",
   "metadata": {},
   "source": [
    "##### Точная настройка резонансного поля и определение ширины линии"
   ]
  },
  {
   "cell_type": "markdown",
   "metadata": {},
   "source": [
    "Задача: \n",
    "\n",
    "Добиться точной настройки поля для наблюдения сигнала ЭПР, зафиксировать\n",
    "значение постоянного тока через основные катушки в условиях резонансного поглощения,\n",
    "определить ширину линии ЭПР."
   ]
  },
  {
   "cell_type": "markdown",
   "metadata": {},
   "source": [
    "По измеренной ЭДС индукции $ε_i$ и параметрам катушки (числу витков $N_{проб}$ и диаметру намотки $d$) определите амплитуду модулирующего поля \n",
    "\n",
    "$$\n",
    "B_{мод}=\\sqrt{2}\\frac{2\\epsilon{}_i}{\\pi^2d^2N_{проб}\\nu{}}.\n",
    "$$\n",
    "\n",
    "Полуширина на полувысоте линии резонансного поглощения (в единицах поля) может быть тогда получена как \n",
    "\n",
    "$$\n",
    "\\Delta{}B=B_{мод}\\frac{A_{0.5}}{A_{полн}}\n",
    "$$"
   ]
  },
  {
   "cell_type": "code",
   "execution_count": 23,
   "metadata": {},
   "outputs": [
    {
     "name": "stdout",
     "output_type": "stream",
     "text": [
      "\n",
      "Модулирующая магнитная индукция\n",
      "\n",
      "B = 46.32356285276482 +- 1.0314320228251745\n"
     ]
    }
   ],
   "source": [
    "E = 137\n",
    "E_sigma = 3\n",
    "\n",
    "B = 2 * np.sqrt(2) * E / (np.pi**2 * d_prob**2 * N_prob * f0) * 10**6\n",
    "B_sigma = B * (E_sigma / E + f0_sigma / f0)\n",
    "print(\"\\nМодулирующая магнитная индукция\\n\\nB =\", B, \"+-\", B_sigma)"
   ]
  },
  {
   "cell_type": "markdown",
   "metadata": {},
   "source": [
    "Ищем по осциллографу полуширину и размах моделирующего поля\n",
    "\n",
    "Затем вычислим полуширина на полувысоте линии резонансного поглощения."
   ]
  },
  {
   "cell_type": "code",
   "execution_count": 27,
   "metadata": {},
   "outputs": [
    {
     "name": "stdout",
     "output_type": "stream",
     "text": [
      "\n",
      "Полуширина на полувысоте\n",
      "\n",
      "delta_B = 13.325956437096732 +- 1.1138300242354824\n"
     ]
    }
   ],
   "source": [
    "A1 = 7.3 # размах кривой резонансного поглощеня\n",
    "A1_sigma = 0.1\n",
    "A2 = 2.1 # ширина кривой резонансного поглощеня\n",
    "A2_sigma = 0.1\n",
    "\n",
    "delta_B = A2 / A1 * B\n",
    "delta_B_sigma = delta_B * (A1_sigma / A1 + A2_sigma / A2 + B_sigma / B)\n",
    "print(\"\\nПолуширина на полувысоте\\n\\ndelta_B =\", delta_B, \"+-\", delta_B_sigma)"
   ]
  },
  {
   "cell_type": "markdown",
   "metadata": {},
   "source": [
    "##### Калибровка поля электромагнита и определение g-фактора"
   ]
  },
  {
   "cell_type": "markdown",
   "metadata": {},
   "source": [
    "Задача: \n",
    "\n",
    "Определить связь между падением напряжения на резисторе в цепи основных\n",
    "катушек и магнитным полем в центре магнита."
   ]
  },
  {
   "cell_type": "markdown",
   "metadata": {},
   "source": [
    "Переключаем ключ в режим 2: основные катушки соеднены с ЛАТРом"
   ]
  },
  {
   "cell_type": "code",
   "execution_count": 37,
   "metadata": {},
   "outputs": [
    {
     "data": {
      "image/png": "[encoded data removed]",
      "text/plain": [
       "<Figure size 432x288 with 1 Axes>"
      ]
     },
     "metadata": {
      "needs_background": "light"
     },
     "output_type": "display_data"
    }
   ],
   "source": [
    "import MNK as mark\n",
    "I = 180             #мА\n",
    "I_sigma = 1         #А\n",
    "R = 0.75            #Ом\n",
    "U = I * R           #мВ\n",
    "\n",
    "I_mas = np.array([134.8, 149.3, 166.4, 170, 176.7, 189.6]) \n",
    "U_mas = np.array([15.2, 16.7, 18.6, 18.95, 19.8, 21.3])\n",
    "line1 = mark.line(I_mas, U_mas)\n",
    "mark.DRAW(\"U(I)\", \"U1, мВ\", \"U2, мВ\")"
   ]
  }
 ],
 "metadata": {
  "kernelspec": {
   "display_name": "Python 3",
   "language": "python",
   "name": "python3"
  },
  "language_info": {
   "codemirror_mode": {
    "name": "ipython",
    "version": 3
   },
   "file_extension": ".py",
   "mimetype": "text/x-python",
   "name": "python",
   "nbconvert_exporter": "python",
   "pygments_lexer": "ipython3",
   "version": "3.8.10"
  }
 },
 "nbformat": 4,
 "nbformat_minor": 4
}
