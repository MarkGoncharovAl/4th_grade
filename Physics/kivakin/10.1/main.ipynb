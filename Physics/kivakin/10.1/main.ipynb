{
 "cells": [
  {
   "cell_type": "markdown",
   "metadata": {},
   "source": [
    "# Электронный парамагнитный резонанс"
   ]
  },
  {
   "cell_type": "markdown",
   "metadata": {},
   "source": [
    "$\\textbf{Цель}$: Исследовать ЭПР в молекуле ДФПГ $C_{18} H_{12} N_5 O_6$. Определить g-фактор электрона, измерить ширину линии ЭПР."
   ]
  },
  {
   "cell_type": "markdown",
   "metadata": {},
   "source": [
    "## Теория"
   ]
  },
  {
   "cell_type": "markdown",
   "metadata": {},
   "source": [
    "В методе ЭПР изучается резонансное поглощение переменного электромагнитного поля в образце в зависимости от контролируемых экспериментатором внешних условий: постоянного магнитного поля, частоты колебаний переменного поля, температуры.\n"
   ]
  },
  {
   "cell_type": "markdown",
   "metadata": {},
   "source": [
    "$\\textbf{Классика}$: В «классическом» подходе рассматривается прецессия магнитного момента во внешнем поле при отклонении магнитного момента от равновесия. Классический магнитный диполь стремится выровняться вдоль силовых линий магнитного поля, при отклонении от равновесия возникает возвращающий механический момент $\\mathbf{T} = \\mathbf{M}\\times \\mathbf{B}$. Так как магнитный и механический момент иона связаны друг с другом гиромагнитным отношением $\\gamma$ как $\\mathbf{M}=\\gamma \\mathbf{J}$ , где $\\mathbf{J}$ - это полный момент импульса, то с учётом уравнения динамики\n",
    "$\\frac{d}{dt}\\mathbf{J} = \\mathbf{T}$, получим уравнение прецессии магнитного момента\n",
    "\n",
    "$\\dfrac{d}{dt}\\mathbf{M} = \\gamma \\mathbf{M} \\times \\mathbf{B}.$\n",
    "\n",
    "Аналогично с известной задачей о прецессии гироскопа можно заметить, что при отклонении магнитного момента от направления магнитного поля возникает незатухающая прецессия вокруг направления поля с угловой скоростью $\\boldsymbol{\\Omega} = -\\gamma \\mathbf{B}$, частота этой прецессии $\\Omega_L = \\gamma B$ называется ларморовской. При совпадении частоты переменного поля, перпендикулярного основному, с ларморовской частотой возможно возникновение резонансного поглощения."
   ]
  },
  {
   "cell_type": "markdown",
   "metadata": {},
   "source": [
    "$\\textbf{Квантмех}$: При квантовомеханическом способе описания рассматривается структура расщеплённых в магнитном поле термов атомов (ионов или молекул) и переходы между расщеплёнными подуровнями. Во избежание путаницы отметим, что ЭПР отличается от оптического эффекта Зеемана, достаточно подробно обсуждаемого в курсе общей физики. При оптическом эффекте Зеемана наблюдается расщепление в магнитном поле спектральной линии, связанной с переходами между разными термами атома. Частота этой спектральной линии лежит обычно в оптическом диапазоне. Частота переменного электромагнитного поля\n",
    "в опытах по ЭПР гораздо ниже оптических частот, поэтому энергии кванта\n",
    "электромагнитного поля может хватить лишь на переходы между расщеплёнными по\n",
    "значению проекции полного момента (в простейшем случае, показанном на — по\n",
    "проекции спина) подуровнями одного терма.\n",
    "Расщепление терма свободного иона (или молекулы) определяется спектроскопическим\n",
    "фактором Ланде (g-фактором Ланде): \n",
    "\n",
    "$E(m_J)=g\\mu{}_BBm_J.$\n",
    "\n",
    "Простейшей моделью для рассмотрения ЭПР является система из невзаимодействующих частиц со спином $S = 1/2$, помещённая во внешнее магнитное поле. В отсутствие магнитного поля энергии состояний с проекцией спина $S_Z = \\pm 1/2$ совпадают. Из-за эффекта Зеемана энергии состояний с различными проекциями спина начинают различаться. Если направить на нашу систему поток излучения с энергией, равной разнице энергий этих состояний \n",
    "\n",
    "\\begin{equation}\\label{2}\n",
    "h \\nu = g\\mu_B B,\n",
    "\\end{equation} \n",
    "\n",
    "\n",
    "то станут возможны индуцированные переходы между состояниями. Эти переходы происходят с поглощением или испусканием фотона в зависимости от того, в каком из состояний была система до взаимодействия с излучением. "
   ]
  },
  {
   "cell_type": "markdown",
   "metadata": {},
   "source": [
    "## Установка\n",
    "![Схема установки](1.png)\n",
    "\n",
    "Схема установки представлена на рисунке. Образец (порошок ДФПГ) в стеклянной ампуле помещается внутрь катушки индуктивности, входящей в состав колебательного контура. Входящий в состав контура конденсатор состоит из двух пластин, разделённых воздушным зазором, одна из пластин может перемещаться поворотом штока. Колебания в контуре возбуждаются антенной, соединённой с генератором высокой частоты (ВЧ) Г4-116. Амплитуда колебаний поля в катушке индуктивности\n",
    "измеряется по наводимой в петле связи ЭДС индукции. Высокочастотные колебания ЭДС индукции в приёмном контуре детектируются диодом, измеряемая при помощи осциллографа низкочастотная огибающая этого сигнала пропорциональна квадрату амплитуды колебаний поля в катушке.\n",
    "\n",
    "--------------------------------------------------------------------\n",
    "\n",
    "Постоянное магнитное поле создаётся пропусканием тока от источника постоянного тока через основные катушки. При этом при помощи вольтметра измеряется падение напряжения на резисторе в цепи основных катушек. Переменное поле небольшой амплитуды создаётся подачей на модуляционные катушки напряжения с регулируемого трансформатора ЛАТР. Для измерения амплитуды колебаний переменного поля используется пробная катушка известной геометрии, подключённая к вольтметру. "
   ]
  },
  {
   "cell_type": "markdown",
   "metadata": {},
   "source": [
    "\n",
    "## Ход работы"
   ]
  },
  {
   "cell_type": "code",
   "execution_count": 2,
   "metadata": {},
   "outputs": [],
   "source": [
    "import numpy as np\n",
    "from IPython.display import display, Math, Latex\n",
    "import matplotlib.pyplot as plt\n",
    "import matplotlib as mpl"
   ]
  },
  {
   "cell_type": "markdown",
   "metadata": {},
   "source": [
    "### Параметры установки"
   ]
  },
  {
   "cell_type": "code",
   "execution_count": 3,
   "metadata": {},
   "outputs": [],
   "source": [
    "# N1 - модуляционные катушки\n",
    "# N2 - основные катушки\n",
    "N1     = 6700 \n",
    "d1     = 0.25 #м\n",
    "N2     = 5000 \n",
    "d2     = 0.3 #м\n",
    "N_prob = 45  \n",
    "d_prob = 15.2 #мм"
   ]
  },
  {
   "cell_type": "markdown",
   "metadata": {},
   "source": [
    "### Настройка ВЧ генератора\n",
    "\n",
    "Генератор настраиваем на частоту колебательного контура. Тогда, если $f_{\\pm \\frac{1}{2}}$ - значения частот при достижении половинного сигнала при расстройке генератора в сторону больших и маленьких частот, то добротность\n",
    "$$\n",
    "Q=\\frac{f_{0}}{f_{+\\frac{1}{2}}-f_{-\\frac{1}{2}}}\n",
    "$$\n",
    "\n",
    "$$\n",
    "\\sigma_Q = Q \\sqrt{\\left( \\frac{\\sigma_{f_0}}{f_0} \\right)^2 + \\left( \\frac{\\sigma_{f_{-\\frac{1}{2}}}}{f_{-\\frac{1}{2}}} \\right)^2 + \\left( \\frac{\\sigma_{f_{+\\frac{1}{2}}}}{f_{+\\frac{1}{2}}} \\right)^2}\n",
    "$$"
   ]
  },
  {
   "cell_type": "code",
   "execution_count": 4,
   "metadata": {},
   "outputs": [
    {
     "name": "stdout",
     "output_type": "stream",
     "text": [
      "\n",
      "Final quality\n",
      "Q = 156.76923076923197 +- 0.09989435405336769\n",
      "epsilon = 0.06372063801245192 %\n"
     ]
    }
   ],
   "source": [
    "f0_sigma = f1_sigma = f2_sigma = 0.03 #MГц\n",
    "f0 = 81.52 # МГц\n",
    "f1 = 81.82 # МГц\n",
    "f2 = 81.30 # МГц\n",
    "\n",
    "Q = f0 / (f1 - f2) #quality\n",
    "Q_sigma = Q * np.sqrt((f0_sigma/f0)**2 + (f1_sigma/f1)**2 + (f2_sigma/f2)**2)\n",
    "epsilon = Q_sigma / Q * 100 # %\n",
    "print(\"\\nFinal quality\")\n",
    "print(\"Q =\", Q, \"+-\", Q_sigma)\n",
    "print('epsilon =', epsilon, '%')"
   ]
  },
  {
   "cell_type": "markdown",
   "metadata": {},
   "source": [
    "### Наблюдение сигнала резонансного поглащение\n",
    "Подадим на модуляционные катушки напряжение  ~50  В (по вольтметру на ЛАТР). Плавно увеличивая   постоянное   напряжение,   подаваемое   на   основные   катушки,   добьёмся возникновения на экране осциллографа картины резонансного поглощения. \n",
    "\n",
    "Поле на образце является суммой постоянного поля от основных катушек и переменного\n",
    "поля от модуляционных катушек \n",
    "\n",
    "$$\n",
    "B(t)=B_{пост}+B_{мод}\\sin{(ω_{мод}t)}.\n",
    "$$\n",
    "\n",
    "Резонансное поглощение\n",
    "возникает при совпадении в некоторые моменты времени поля B(t) с полем резонансного\n",
    "поглощения на частоте колебательного контура \n",
    "\n",
    "$$\n",
    "B_0=hf_0I(g\\mu{}_B)\n",
    "$$"
   ]
  },
  {
   "cell_type": "markdown",
   "metadata": {},
   "source": [
    "Итого $U = 78 \\pm 1$ мВ"
   ]
  },
  {
   "cell_type": "code",
   "execution_count": 47,
   "metadata": {},
   "outputs": [],
   "source": [
    "U = 78 # мВ\n",
    "sigma_U = 1 # мВ"
   ]
  },
  {
   "cell_type": "markdown",
   "metadata": {},
   "source": [
    "### Точная настройка резонансного поля и определение ширины линии.\n",
    "Переменное поле модуляционных катушек наводит в пробной катушке ЭДС индукции $\\mathcal{E},$ по которой можно определить величину поля.Тогда амплитуда модулюрующего поля\n",
    "$$\n",
    "B_{\\text {мод }}=\\frac{2 \\sqrt{2} \\mathcal{E}}{\\pi^{2} d_{\\text {проб }}^{2} N_{\\text {проб }} \\nu} \\text {}\n",
    "$$\n",
    "\n",
    "$$\n",
    "\\sigma_{B_{\\text {мод }}} = B_{\\text {мод }} \\sqrt{\\left( \\frac{\\sigma_{\\mathcal{E}}}{\\mathcal{E}} \\right)^2 + \\left( \\frac{\\sigma_{\\nu}}{\\nu} \\right)^2 }\n",
    "$$"
   ]
  },
  {
   "cell_type": "code",
   "execution_count": 48,
   "metadata": {},
   "outputs": [
    {
     "name": "stdout",
     "output_type": "stream",
     "text": [
      "\n",
      "Модулирующая магнитная индукция\n",
      "B = 65.06369475805286 +- 0.9564273058454886 мТл\n",
      "epsilon = 1.469986156491847 %\n"
     ]
    }
   ],
   "source": [
    "E = 137 #мВ\n",
    "E_sigma = 2 #мВ\n",
    "nu = 58.04 # Гц\n",
    "nu_sigma = 0.1 # Гц\n",
    "\n",
    "B = 2 * np.sqrt(2) * E / (np.pi**2 * d_prob**2 * N_prob * nu) * 10**6\n",
    "B_sigma = B * np.sqrt(((E_sigma / E)**2 + (nu_sigma / nu)**2))\n",
    "epsilon = B_sigma / B * 100 \n",
    "print(\"\\nМодулирующая магнитная индукция\\nB =\", B, \"+-\", B_sigma, \"мТл\")\n",
    "print(\"epsilon =\", epsilon, '%')"
   ]
  },
  {
   "cell_type": "markdown",
   "metadata": {},
   "source": [
    "Полуширина   на   полувысоте   линии   резонансного поглощения (в единицах поля) может быть тогда получена как\n",
    "$$\n",
    "\\Delta B=\\frac{A_{1 / 2}}{A_{\\text {полн }}} B_{\\text {мод }}\\text { }\n",
    "$$\n",
    "\n",
    "$$\n",
    "\\sigma_{\\Delta B} = \\Delta B \\sqrt{\\left( \\frac{\\sigma_{A_{1 / 2}}}{A_{1 / 2}} \\right)^2 + \\left( \\frac{\\sigma_{A_{\\text {полн }}}}{A_{\\text {полн }}} \\right)^2 + \\left( \\frac{\\sigma_{B_{\\text {мод }}}}{B_{\\text {мод }}} \\right)^2}\n",
    "$$"
   ]
  },
  {
   "cell_type": "code",
   "execution_count": 49,
   "metadata": {
    "scrolled": true
   },
   "outputs": [
    {
     "name": "stdout",
     "output_type": "stream",
     "text": [
      "\n",
      "Полуширина на полувысоте\n",
      "delta_B = 18.716953286563154 +- 0.9673808180239761\n",
      "epsilon = 5.168473753249446 %\n"
     ]
    }
   ],
   "source": [
    "A1 = 7.3 # размах кривой резонансного поглощеня\n",
    "A1_sigma = A2_sigma = 0.1\n",
    "A2 = 2.1 # ширина кривой резонансного поглощеня\n",
    "\n",
    "delta_B = A2 / A1 * B\n",
    "delta_B_sigma = delta_B * np.sqrt(((A1_sigma / A1)**2 + (A2_sigma / A2)**2 + (B_sigma / B)**2))\n",
    "epsilon = delta_B_sigma / delta_B * 100 # %\n",
    "print(\"\\nПолуширина на полувысоте\\ndelta_B =\", delta_B, \"+-\", delta_B_sigma)\n",
    "print(\"epsilon =\", epsilon, '%')"
   ]
  },
  {
   "cell_type": "markdown",
   "metadata": {},
   "source": [
    "### Калибровка поля электромагнита и определение g-фактора"
   ]
  },
  {
   "cell_type": "markdown",
   "metadata": {},
   "source": [
    "Для определения поля резонансного поглощения необходимо найти связь между падениемнапряжения на резисторе в цепи основной катушки и магнитным полем. Это можно сделать,если подать в основные катушки переменный ток и измерить при помощи пробной катушкиЭДС индукции.\n",
    "\n",
    "Постоянное магнитное поле создаётся пропусканием тока от источника постоянного тока через основные катушки. При этом при помощи вольтметра измеряется падение напряжения на резисторе в цепи основных катушек. Переменное поле небольшой амплитуды создаётся подачей на модуляционные катушки напряжения с регулируемого трансформатора ЛАТР. Для измерения амплитуды колебаний переменного поля используется пробная катушка известной геометрии, подключённая к вольтметру. Пусть поток через неё $\\Phi_{\\text{проб}}$, тогда ЭДС индукции\n",
    "\n",
    "$\\mathcal{E} = - \\dfrac{d\\Phi_{\\text{проб}}}{dt}.$\n",
    "\n",
    "Если $I_{\\text{осн}}$ -- ток через основную катушку, а $M$ -- взаимная индуктивность основной и пробной катушек, то\n",
    "\n",
    "$\\Phi_{\\text{проб}} = M I_{\\text{осн}}.$\n",
    "\n",
    "Тогда амплитудное значение ЭДС индукции\n",
    "\n",
    "$\\mathcal{E}_{\\text{амп}} = - \\dfrac{dM I_{\\text{осн}}}{dt} = M \\omega I_{\\text{амп}}.$\n",
    "\n",
    "Учитывая, что $I_{\\text{амп}} = \\sqrt{2} I_{\\text{действ}}=\\frac{V_r}{r}$, где $V_R$, $R$ -- напряжение на резисторе с сопротивлением $R$ в цепи основных катушек, а также $\\mathcal{E}_{\\text{амп}} = \\sqrt{2}\\mathcal{E}_{\\text{ср}}$, получим\n",
    "\n",
    "$\\mathcal{E}_{\\text{ср}} = M \\omega \\dfrac{V_R}{R} = k V_R.$\n",
    "\n",
    "Тогда, зная, что\n",
    "\n",
    "$\\Phi_{\\text{проб}} = B_0 N_{\\text{проб}} \\dfrac{\\pi d_{\\text{проб}}^2}{4} =  \\dfrac{MU_R}{R} = \\dfrac{k U}{\\omega},$\n",
    "\n",
    "где $U$ -- напряжение на $R$ в резонансе, получим\n",
    "\n",
    "$B_0 = \\dfrac{4k U}{\\pi \\omega d^2_{\\text{проб}} N_{\\text{проб}}}$\n"
   ]
  },
  {
   "cell_type": "code",
   "execution_count": 50,
   "metadata": {},
   "outputs": [],
   "source": [
    "Ur = np.array([134.8, 149.3, 166.4, 170, 176.7, 189.6]) #мВ \n",
    "Ul = np.array([15.2, 16.7, 18.6, 18.95, 19.8, 21.3]) #мВ"
   ]
  },
  {
   "cell_type": "code",
   "execution_count": 51,
   "metadata": {},
   "outputs": [],
   "source": [
    "# MNK functions\n",
    "def mid(npArr):\n",
    "    return npArr.sum() / len(npArr)\n",
    "\n",
    "def k_only(x, y):\n",
    "    return mid(x * y) / mid(x * x)\n",
    "\n",
    "def k_only_sigma(x, y):\n",
    "    return ((mid(x * x) * mid(y * y) - mid(x * y)**2) / (len(x) * mid(x * x)**2))**0.5\n",
    "\n",
    "def k_coef(x, y):\n",
    "    return (mid(x * y) - mid(x) * mid(y)) / (mid(x * x) - mid(x)**2)\n",
    "\n",
    "def b_coef(x, y):\n",
    "    return mid(y) - k_coef(x, y) * mid(x)\n",
    "\n",
    "def k_sigma(x, y):\n",
    "    return ((mid(y * y) - mid(y)**2) / (mid(x * x) - mid(x)**2) - k_coef(x, y)**2)**0.5  / len(x)**0.5"
   ]
  },
  {
   "cell_type": "code",
   "execution_count": 52,
   "metadata": {},
   "outputs": [
    {
     "data": {
      "image/png": "[encoded data removed]",
      "text/plain": [
       "<Figure size 1152x648 with 1 Axes>"
      ]
     },
     "metadata": {
      "needs_background": "light"
     },
     "output_type": "display_data"
    }
   ],
   "source": [
    "# PLOT\n",
    "Ur_approx = np.linspace(130, 190, 1000)\n",
    "Ul_approx = k_coef(Ur, Ul) * Ur_approx + b_coef(Ur, Ul)\n",
    "Ur_error = np.array([1] * len(Ur))\n",
    "Ul_error = np.array([0.1] * len(Ul))\n",
    "\n",
    "plt.figure(figsize=(16,9))\n",
    "plt.xlabel(\"Vr, мВ\")\n",
    "plt.ylabel(\"Vl, мВ\")\n",
    "plt.errorbar(Ur, Ul, xerr = Ur_error, yerr=Ul_error, fmt = '.')\n",
    "plt.plot(Ur, Ul, 'o', color=\"b\", markersize=5)\n",
    "plt.plot(Ur_approx, Ul_approx, 'o', color=\"k\", markersize=1)\n",
    "plt.minorticks_on()\n",
    "plt.grid(which='major', axis='both')\n",
    "plt.grid(which='minor', axis='both', linestyle = ':')\n",
    "plt.title(\"Калибровка\")\n",
    "plt.show() "
   ]
  },
  {
   "cell_type": "code",
   "execution_count": 53,
   "metadata": {},
   "outputs": [
    {
     "name": "stdout",
     "output_type": "stream",
     "text": [
      "k = 0.11120380787537794 +- 0.0014213098282064806\n",
      "epsilon = 1.2781125533032922 %\n"
     ]
    }
   ],
   "source": [
    "k = k_coef(Ur, Ul)\n",
    "sigma_k = k_sigma(Ur, Ul)\n",
    "print(\"k =\", k, \"+-\", sigma_k)\n",
    "print(\"epsilon =\", sigma_k / k * 100, \"%\")"
   ]
  },
  {
   "cell_type": "markdown",
   "metadata": {},
   "source": [
    "Посчитаем индукцию основного магнитного поля по формуле:\n",
    "$$\n",
    "B_{0}=\\frac{4 k U}{\\pi \\omega d_{\\mathrm{проб}}^{2} N_{\\mathrm{проб}}} \n",
    "$$\n",
    "\n",
    "$$\n",
    "\\sigma_{B_{0}}=B_{0} \\sqrt{\\left( \\frac{\\sigma_{k}}{k} \\right)^2 + \\left( \\frac{\\sigma_{U}}{U} \\right)^2 + \\left( \\frac{\\sigma_{\\omega}}{\\omega} \\right)^2 }\n",
    "$$"
   ]
  },
  {
   "cell_type": "code",
   "execution_count": 54,
   "metadata": {},
   "outputs": [
    {
     "name": "stdout",
     "output_type": "stream",
     "text": [
      "B0 = 2.073865806275432 +- 0.03771308144564293 мТл\n",
      "epsilon = 1.8184918875428058 %\n"
     ]
    }
   ],
   "source": [
    "B0 = 2 * k * U / np.pi**2 / f0 / d_prob**2 / N_prob * 10**6\n",
    "sigma_B0 = B0 * np.sqrt(((nu_sigma / nu)**2 + (sigma_k / k)**2) + (sigma_U / U)**2)\n",
    "print(\"B0 =\", B0, \"+-\", sigma_B0, \"мТл\")\n",
    "print(\"epsilon =\", sigma_B0 / B0 * 100, \"%\")"
   ]
  },
  {
   "cell_type": "markdown",
   "metadata": {},
   "source": [
    "Тогда $g$ -фактор электрона будет равен\n",
    "$$\n",
    "g=\\frac{h f_{0}}{\\mu_{B} B_{0}}\n",
    "$$\n",
    "погрешность считаем по формуле\n",
    "$$\n",
    "\\sigma_{g} = g \\sqrt{\\left( \\frac{\\sigma_{f_0}}{f_0} \\right)^2 + \\left( \\frac{\\sigma_{B_0}}{B_0} \\right)^2 }\n",
    "$$"
   ]
  },
  {
   "cell_type": "code",
   "execution_count": 60,
   "metadata": {},
   "outputs": [
    {
     "name": "stdout",
     "output_type": "stream",
     "text": [
      "g = 2.8084872578819176 +- 0.05108256979546141\n",
      "epsilon = 1.8188642178133454 %\n"
     ]
    }
   ],
   "source": [
    "h       = 6.62607015 * 10**(-34)\n",
    "mu_b    = 927.4 * 10**(-26)\n",
    "g       = h * f0 / mu_b / B0 * 10**9\n",
    "sigma_g = g * np.sqrt((f0_sigma / f0)**2 + (sigma_B0 / B0)**2)\n",
    "print(\"g =\", g, \"+-\", sigma_g)\n",
    "print(\"epsilon =\", sigma_g / g * 100, \"%\")"
   ]
  },
  {
   "cell_type": "code",
   "execution_count": null,
   "metadata": {},
   "outputs": [],
   "source": []
  }
 ],
 "metadata": {
  "kernelspec": {
   "display_name": "Python 3",
   "language": "python",
   "name": "python3"
  },
  "language_info": {
   "codemirror_mode": {
    "name": "ipython",
    "version": 3
   },
   "file_extension": ".py",
   "mimetype": "text/x-python",
   "name": "python",
   "nbconvert_exporter": "python",
   "pygments_lexer": "ipython3",
   "version": "3.8.5"
  }
 },
 "nbformat": 4,
 "nbformat_minor": 4
}
