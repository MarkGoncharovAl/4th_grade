{
 "cells": [
  {
   "cell_type": "markdown",
   "metadata": {},
   "source": [
    "# 1.1"
   ]
  },
  {
   "cell_type": "markdown",
   "metadata": {},
   "source": [
    "Схема установки\n",
    "![2.jpg](2.jpg)"
   ]
  },
  {
   "cell_type": "code",
   "execution_count": 17,
   "metadata": {},
   "outputs": [],
   "source": [
    "R_0  = 0.056   #кОм\n",
    "R_b  = 270     #кОм\n",
    "R_i  = 5.6     #кОм\n",
    "R_b  = 270     #кОм\n",
    "R_z  = 0.1     #kОм\n",
    "R_e  = 0.1     #кОм\n",
    "C_b  = 1       #мкФ\n",
    "С_em = 1000    #мкФ\n",
    "U_const = 9.99 #В"
   ]
  },
  {
   "cell_type": "code",
   "execution_count": 12,
   "metadata": {},
   "outputs": [
    {
     "name": "stdout",
     "output_type": "stream",
     "text": [
      "K = 0.907\n",
      "Входной ток 0.022 мА\n",
      "R входное транзистора 16.14 Ом\n"
     ]
    }
   ],
   "source": [
    "E     = 0.5   #В\n",
    "U_in  = 0.375 #В\n",
    "U_out = 0.34  #В\n",
    "K_sh  = U_out / U_in\n",
    "print(\"K =\", round(K_sh, 3))\n",
    "I_in = (E - U_in) / R_i\n",
    "print(\"Входной ток\", round(I_in, 3), \"мА\")\n",
    "tmp =  U_out / I_in\n",
    "R_in_tr_sh = R_b * tmp / (R_b - tmp) \n",
    "print(\"R входное транзистора\", round(R_in_tr_sh, 2), \"кОм\")"
   ]
  },
  {
   "cell_type": "markdown",
   "metadata": {},
   "source": [
    "##### Правило двух нагрузок"
   ]
  },
  {
   "cell_type": "code",
   "execution_count": 25,
   "metadata": {
    "scrolled": true
   },
   "outputs": [
    {
     "name": "stdout",
     "output_type": "stream",
     "text": [
      "R1 = 0.1 кОм\n",
      "R2 = 0.036 кОм\n",
      "U_out1 = 167.4 мВ\n",
      "U_out2 = 158 мВ\n",
      "R_out =  0.0034 кОм\n"
     ]
    }
   ],
   "source": [
    "U_in = 0.17 #В \n",
    "R1 = R_e\n",
    "print(\"R1 =\", R1, \"кОм\")\n",
    "R2 = R_e * R_0 / (R_e + R_0)\n",
    "print(\"R2 =\", round(R2, 3), \"кОм\")\n",
    "E = 0.2   #В\n",
    "U_out1 = 167.4 #мВ\n",
    "print(\"U_out1 =\", U_out1, \"мВ\")\n",
    "U_out2 = 158 #мВ\n",
    "print(\"U_out2 =\", U_out2, \"мВ\")\n",
    "R_out = R1 * R2 * (U_out1 - U_out2) / (U_out2*R1 - U_out1 * R2)\n",
    "print(\"R_out = \", round(R_out, 4), \"кОм\")\n",
    "U_in = 0.375"
   ]
  },
  {
   "cell_type": "markdown",
   "metadata": {},
   "source": [
    "Также нужно было убедиться в выполнении формул\n",
    "\n",
    "$$\n",
    "K^{/} = \\frac{K}{1 - K\\beta{}}\n",
    "$$\n",
    "\n",
    "$$\n",
    "R_{вых}^/ = R_{вых}(1 - K\\beta{})\n",
    "$$"
   ]
  },
  {
   "cell_type": "code",
   "execution_count": 40,
   "metadata": {},
   "outputs": [
    {
     "name": "stdout",
     "output_type": "stream",
     "text": [
      "I_б = 0.012 мА\n",
      "U_in_sh = 0.013 В\n",
      "R_in = 1.12 кОм\n",
      "K = 32.46\n",
      "K_sh = 0.97\n",
      "R_in_sh = 37.48 кОм\n"
     ]
    }
   ],
   "source": [
    "U_oc = -U_out\n",
    "E = 0.5      #В\n",
    "U_in = 0.435 #В\n",
    "I_b = (E - U_in) / R_i\n",
    "print(\"I_б =\", round(I_b, 3), \"мА\")\n",
    "U_out = 0.422 #В\n",
    "U_in_sh = U_in - U_out\n",
    "print(\"U_in_sh =\", round(U_in_sh, 3), \"В\")\n",
    "R_in = U_in_sh / I_b #h11e\n",
    "print(\"R_in =\", round(R_in, 3), \"кОм\")\n",
    "K = U_out / U_in_sh\n",
    "print(\"K =\", round(K, 2))\n",
    "betta = -1\n",
    "K_sh = K / (1 - K * betta)\n",
    "print(\"K_sh =\", round(K_sh, 2))\n",
    "R_in_sh = R_in * (1 + K)\n",
    "print(\"R_in_sh =\", round(R_in_sh, 2), \"кОм\")"
   ]
  },
  {
   "cell_type": "markdown",
   "metadata": {},
   "source": [
    "Как видно, практическое значение $K = 0.907$, теоретическое $K = 0.97$. Данный результат в принципе можно называть подтверждением нашей теории.\n",
    "\n",
    "С входным сопротивлением транзистора дела похуже. Практическое $R_{вхтр} = 16.14$ и теоретическое $R_{вхтр} = 37.48$"
   ]
  },
  {
   "cell_type": "markdown",
   "metadata": {},
   "source": [
    "# 2.2\n",
    "\n",
    "Схема установки\n",
    "![1.jpg](1.jpg)\n",
    "\n",
    "Мой собраный вариант\n",
    "![3.jpg](3.jpg)"
   ]
  },
  {
   "cell_type": "code",
   "execution_count": 41,
   "metadata": {},
   "outputs": [
    {
     "name": "stdout",
     "output_type": "stream",
     "text": [
      "K штрих 20.3\n"
     ]
    }
   ],
   "source": [
    "U_in = 0.067 #В\n",
    "U_out = 1.36 #В\n",
    "K_sh = U_out / U_in\n",
    "print(\"K штрих\", round(K_sh, 1))\n",
    "I_in = 1.2   #мкА\n",
    "U1 = 0.059   #В\n",
    "K1 = U1 / U_in\n",
    "Rb13 = 5.1   #кОм"
   ]
  },
  {
   "cell_type": "markdown",
   "metadata": {},
   "source": [
    "Находим $R_{выхтр}^{/}$ по формуле\n",
    "\n",
    "$$\n",
    "R_{выхтр}^{/} || \\frac{R_{b13}}{1 - K_1} = \\frac{U_{вх}}{I_{вх}}\n",
    "$$\n",
    "\n",
    "Имеем $R_{выхтр}^{/} = 176$кОм"
   ]
  },
  {
   "cell_type": "markdown",
   "metadata": {},
   "source": [
    "Теперь воспользуемся правилом двух нагрузок:"
   ]
  },
  {
   "cell_type": "code",
   "execution_count": 8,
   "metadata": {},
   "outputs": [
    {
     "name": "stdout",
     "output_type": "stream",
     "text": [
      "R выходное 478.2\n",
      "F верх 400МГц \n"
     ]
    }
   ],
   "source": [
    "U1 = 2.54 #В при R = inf\n",
    "R2 = 560 #Ом\n",
    "U2 = 1.37 #В\n",
    "R_out = R2 * (U1 - U2) / U2\n",
    "print(\"R выходное\", round(R_out, 1))\n",
    "# Верхняя граничная частота, на которой коэффициент усиления\n",
    "# уменьшается в корень из 2 раз по сравнению с его значением\n",
    "# на средних частотах\n",
    "print(\"F верх 400МГц \")"
   ]
  },
  {
   "cell_type": "code",
   "execution_count": null,
   "metadata": {},
   "outputs": [],
   "source": [
    "betta = -51. / 1151.\n",
    "print(betta)"
   ]
  },
  {
   "cell_type": "markdown",
   "metadata": {},
   "source": [
    "# 77 \n",
    "\n",
    "### 2"
   ]
  },
  {
   "cell_type": "markdown",
   "metadata": {},
   "source": [
    "|  F, Гц  |  $U_out$, В | $U_a$, В|\n",
    "|:-------:|:-----------:|:-------:|\n",
    "| 50 |  | |\n",
    "| Треугольное  | 11.9 | 8 |\n",
    "| Ханна | 6.5 | 8 |"
   ]
  }
 ],
 "metadata": {
  "kernelspec": {
   "display_name": "Python 3",
   "language": "python",
   "name": "python3"
  },
  "language_info": {
   "codemirror_mode": {
    "name": "ipython",
    "version": 3
   },
   "file_extension": ".py",
   "mimetype": "text/x-python",
   "name": "python",
   "nbconvert_exporter": "python",
   "pygments_lexer": "ipython3",
   "version": "3.8.10"
  }
 },
 "nbformat": 4,
 "nbformat_minor": 4
}
