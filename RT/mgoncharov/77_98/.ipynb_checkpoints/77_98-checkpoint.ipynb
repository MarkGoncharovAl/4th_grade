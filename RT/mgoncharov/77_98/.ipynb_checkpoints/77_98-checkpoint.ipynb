{
 "cells": [
  {
   "cell_type": "markdown",
   "metadata": {},
   "source": [
    "# 1.1"
   ]
  },
  {
   "cell_type": "markdown",
   "metadata": {},
   "source": [
    "Scheme\n",
    "![1.png]()"
   ]
  },
  {
   "cell_type": "code",
   "execution_count": 6,
   "metadata": {},
   "outputs": [],
   "source": [
    "R_0  = 0.051   #кОм\n",
    "C_b  = 1       #мкФ\n",
    "R_b  = 270     #кОм\n",
    "R_i  = 5.6     #кОм\n",
    "R_em = 0.1     #кОм\n",
    "С_em = 1000    #мкФ\n",
    "U_const = 9.99 #В"
   ]
  },
  {
   "cell_type": "code",
   "execution_count": 5,
   "metadata": {},
   "outputs": [
    {
     "name": "stdout",
     "output_type": "stream",
     "text": [
      "Входное напряжение 0.043 мА\n"
     ]
    }
   ],
   "source": [
    "E    = 0.25 #В\n",
    "U_in = 0.01 #В\n",
    "I_in = (E - U_in) / R_i\n",
    "print(\"Входное напряжение\", round(I_in, 3), \"мА\")"
   ]
  },
  {
   "cell_type": "code",
   "execution_count": 10,
   "metadata": {},
   "outputs": [
    {
     "name": "stdout",
     "output_type": "stream",
     "text": [
      "Выходное сопротивление транзистора 12.2 кОм\n"
     ]
    }
   ],
   "source": [
    "U_out = 0.5 #В\n",
    "tmp = U_out * R_i / (E - U_in)\n",
    "R_out = R_b * tmp / (R_b - tmp)\n",
    "print(\"Выходное сопротивление транзистора\", round(R_out, 1), \"кОм\")"
   ]
  },
  {
   "cell_type": "code",
   "execution_count": 13,
   "metadata": {},
   "outputs": [
    {
     "name": "stdout",
     "output_type": "stream",
     "text": [
      "Выходное сопротивление 0.0007 кОм\n"
     ]
    }
   ],
   "source": [
    "U_1 = 0.503\n",
    "U_2 = 0.496\n",
    "R_1 = R_em\n",
    "R_2 = R_em * R_0 / (R_em + R_0)\n",
    "R_out = R_1 * R_2 * (U_1 - U_2) / (U_2 * R_1 - U_1 * R_2)\n",
    "print(\"Выходное сопротивление\", round(R_out, 4), \"кОм\")"
   ]
  },
  {
   "cell_type": "code",
   "execution_count": null,
   "metadata": {},
   "outputs": [],
   "source": []
  },
  {
   "cell_type": "markdown",
   "metadata": {},
   "source": [
    "# 1.2"
   ]
  },
  {
   "cell_type": "code",
   "execution_count": null,
   "metadata": {},
   "outputs": [],
   "source": []
  },
  {
   "cell_type": "markdown",
   "metadata": {},
   "source": [
    "# 1.3"
   ]
  },
  {
   "cell_type": "code",
   "execution_count": null,
   "metadata": {},
   "outputs": [],
   "source": []
  },
  {
   "cell_type": "markdown",
   "metadata": {},
   "source": [
    "# 1.4"
   ]
  },
  {
   "cell_type": "markdown",
   "metadata": {},
   "source": [
    "# 1.5"
   ]
  },
  {
   "cell_type": "markdown",
   "metadata": {},
   "source": [
    "# 2.2"
   ]
  },
  {
   "cell_type": "code",
   "execution_count": 5,
   "metadata": {},
   "outputs": [
    {
     "name": "stdout",
     "output_type": "stream",
     "text": [
      "K штрих 20.3\n",
      "R входное транзистора 55.8\n"
     ]
    }
   ],
   "source": [
    "U_in = 0.067\n",
    "U_out = 1.36\n",
    "K_sh = U_out / U_in\n",
    "print(\"K штрих\", round(K_sh, 1))\n",
    "I_in = 1.2 #мкА\n",
    "R_b11 = 82000\n",
    "R_b12 = 8200\n",
    "R_inShTr = 1. / (I_in / U_in - 1. / R_b11 - 1. / R_b12) * 10**3\n",
    "print(\"R входное транзистора\", round(R_inShTr, 1))"
   ]
  },
  {
   "cell_type": "markdown",
   "metadata": {},
   "source": [
    "Теперь воспользуемся правилом двух нагрузок:"
   ]
  },
  {
   "cell_type": "code",
   "execution_count": 8,
   "metadata": {},
   "outputs": [
    {
     "name": "stdout",
     "output_type": "stream",
     "text": [
      "R выходное 478.2\n",
      "F верх 400МГц \n"
     ]
    }
   ],
   "source": [
    "U1 = 2.54 #В при R = inf\n",
    "R2 = 560 #Ом\n",
    "U2 = 1.37 #В\n",
    "R_out = R2 * (U1 - U2) / U2\n",
    "print(\"R выходное\", round(R_out, 1))\n",
    "# Верхняя граничная частота, на которой коэффициент усиления\n",
    "# уменьшается в корень из 2 раз по сравнению с его значением\n",
    "# на средних частотах\n",
    "print(\"F верх 400МГц \")"
   ]
  },
  {
   "cell_type": "code",
   "execution_count": null,
   "metadata": {},
   "outputs": [],
   "source": [
    "betta = -51. / 1151.\n",
    "print(betta)"
   ]
  }
 ],
 "metadata": {
  "kernelspec": {
   "display_name": "Python 3",
   "language": "python",
   "name": "python3"
  },
  "language_info": {
   "codemirror_mode": {
    "name": "ipython",
    "version": 3
   },
   "file_extension": ".py",
   "mimetype": "text/x-python",
   "name": "python",
   "nbconvert_exporter": "python",
   "pygments_lexer": "ipython3",
   "version": "3.8.10"
  }
 },
 "nbformat": 4,
 "nbformat_minor": 4
}
